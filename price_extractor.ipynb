{
 "cells": [
  {
   "cell_type": "markdown",
   "metadata": {},
   "source": [
    "## Price Extraction\n",
    "\n",
    "Selenium is used to extract different prices (new, pre-owned, digital) from GameStop for games. A dataframe is populated and stored for reproducibility."
   ]
  },
  {
   "cell_type": "code",
   "execution_count": 51,
   "metadata": {},
   "outputs": [],
   "source": [
    "import numpy as np\n",
    "import pandas as pd\n",
    "with open('./all_games.txt', 'r') as f:\n",
    "    all_games = f.readlines()"
   ]
  },
  {
   "cell_type": "code",
   "execution_count": 62,
   "metadata": {},
   "outputs": [
    {
     "data": {
      "text/plain": [
       "['https://www.gamestop.com//video-games/playstation-4/games/products/bulletstorm-full-clip-edition/10139489.html\\n',\n",
       " 'https://www.gamestop.com//video-games/playstation-4/games/products/street-outlaws-the-list/11096681.html\\n',\n",
       " 'https://www.gamestop.com//video-games/playstation-4/games/products/mega-man-11/10163375.html\\n',\n",
       " 'https://www.gamestop.com//video-games/playstation-4/games/products/sniper-ghost-warrior-contracts/10178548.html\\n',\n",
       " 'https://www.gamestop.com//video-games/playstation-4/games/products/gal-gun-2/10163554.html\\n',\n",
       " 'https://www.gamestop.com//video-games/playstation-4/games/products/project-cars-2/10142421.html\\n',\n",
       " 'https://www.gamestop.com//video-games/playstation-4/games/products/madden-nfl-19/10158733.html\\n',\n",
       " 'https://www.gamestop.com//video-games/playstation-4/games/products/heavy-rain-and-beyond-two-souls/10173232.html\\n',\n",
       " 'https://www.gamestop.com//video-games/playstation-4/games/products/lets-sing-country/11096878.html\\n',\n",
       " 'https://www.gamestop.com//video-games/playstation-4/games/products/the-book-of-unwritten-tales-2/10123974.html\\n']"
      ]
     },
     "execution_count": 62,
     "metadata": {},
     "output_type": "execute_result"
    }
   ],
   "source": [
    "all_games[:10]"
   ]
  },
  {
   "cell_type": "code",
   "execution_count": 77,
   "metadata": {},
   "outputs": [],
   "source": [
    "prices = []"
   ]
  },
  {
   "cell_type": "code",
   "execution_count": 85,
   "metadata": {},
   "outputs": [
    {
     "name": "stderr",
     "output_type": "stream",
     "text": [
      "/home/armaan/Documents/gpu_env/lib/python3.5/site-packages/ipykernel_launcher.py:5: DeprecationWarning: use setter for headless property instead of set_headless\n",
      "  \"\"\"\n"
     ]
    },
    {
     "data": {
      "application/vnd.jupyter.widget-view+json": {
       "model_id": "e1af7ea00f1440cb8dcf45ca021bb28d",
       "version_major": 2,
       "version_minor": 0
      },
      "text/plain": [
       "HBox(children=(IntProgress(value=0, max=572), HTML(value='')))"
      ]
     },
     "metadata": {},
     "output_type": "display_data"
    },
    {
     "name": "stdout",
     "output_type": "stream",
     "text": [
      "skipping url https://www.gamestop.com//video-games/playstation-4/games/products/destiny-2-limited-edition-only-at-gamestop/10147025.html\n",
      "\n",
      "skipping url https://www.gamestop.com//video-games/playstation-4/games/products/warhammer-vermintide-2-deluxe-edition/10177212.html\n",
      "\n",
      "skipping url https://www.gamestop.com//video-games/playstation-4/games/products/dragon-ball-fighterz-fighterz-edition-only-at-gamestop/10155808.html\n",
      "\n",
      "skipping url https://www.gamestop.com//video-games/playstation-4/games/products/fate-extella-the-umbral-star---noble-phantasm-edition/10136586.html\n",
      "\n",
      "skipping url https://www.gamestop.com//video-games/playstation-4/games/products/bubsy-paws-on-fire-limited-edition/10176908.html\n",
      "\n",
      "skipping url https://www.gamestop.com//video-games/playstation-4/games/products/ark-survival-evolved-collectors-edition-only-at-gamestop/10149630.html\n",
      "\n",
      "skipping url https://www.gamestop.com//video-games/playstation-4/games/products/mlb-the-show-19-mvp-edition/10170066.html\n",
      "\n"
     ]
    }
   ],
   "source": [
    "from selenium import webdriver\n",
    "from tqdm.auto import tqdm\n",
    "from selenium.common.exceptions import NoSuchElementException,ElementNotInteractableException\n",
    "op = webdriver.FirefoxOptions()\n",
    "op.set_headless()\n",
    "\n",
    "driver = webdriver.Firefox(options=op)\n",
    "\n",
    "# for n, url in enumerate(all_games):\n",
    "for url in tqdm(all_games):\n",
    "    try:\n",
    "        driver.get(url)\n",
    "    except:\n",
    "        print(\"couldn't get URL :\", url)\n",
    "        continue\n",
    "    price = driver.find_elements_by_class_name('card-body')\n",
    "    title = driver.find_elements_by_xpath('//h1[@class=\"product-name h2\"]')\n",
    "    if len(title) == 0:\n",
    "        print('skipping url {}'.format(url))\n",
    "        continue\n",
    "\n",
    "    if len(price) > 0:\n",
    "        new_price = 'NA'\n",
    "        pre_price = 'NA'\n",
    "        digital = 'NA'\n",
    "        for n, elem in enumerate(price):\n",
    "            full = str(elem.text).splitlines()\n",
    "            corres_price = full[-1]\n",
    "            label_dec = full[0]\n",
    "            if label_dec[0]=='N':\n",
    "                new_price = corres_price\n",
    "            elif label_dec[0]=='P':\n",
    "                pre_price = corres_price\n",
    "            elif label_dec[0]=='D':\n",
    "                digital = corres_price\n",
    "        prices.append({\"new\":new_price,\n",
    "                       \"pre\":pre_price,\n",
    "                       \"digital\":digital,\n",
    "                      \"title\":title[0].text})\n",
    "    else:\n",
    "        prices.append({\"new\":'NA',\n",
    "                       \"pre\":'NA',\n",
    "                       \"digital\":'NA',\n",
    "                      \"title\":title[0].text})"
   ]
  },
  {
   "cell_type": "code",
   "execution_count": 86,
   "metadata": {},
   "outputs": [],
   "source": [
    "price_df = pd.DataFrame(prices)"
   ]
  },
  {
   "cell_type": "code",
   "execution_count": 92,
   "metadata": {},
   "outputs": [
    {
     "data": {
      "text/html": [
       "<div>\n",
       "<style scoped>\n",
       "    .dataframe tbody tr th:only-of-type {\n",
       "        vertical-align: middle;\n",
       "    }\n",
       "\n",
       "    .dataframe tbody tr th {\n",
       "        vertical-align: top;\n",
       "    }\n",
       "\n",
       "    .dataframe thead th {\n",
       "        text-align: right;\n",
       "    }\n",
       "</style>\n",
       "<table border=\"1\" class=\"dataframe\">\n",
       "  <thead>\n",
       "    <tr style=\"text-align: right;\">\n",
       "      <th></th>\n",
       "      <th>digital</th>\n",
       "      <th>new</th>\n",
       "      <th>pre</th>\n",
       "      <th>title</th>\n",
       "    </tr>\n",
       "  </thead>\n",
       "  <tbody>\n",
       "    <tr>\n",
       "      <th>0</th>\n",
       "      <td>NA</td>\n",
       "      <td>NA</td>\n",
       "      <td>$9.99</td>\n",
       "      <td>Bulletstorm: Full Clip Edition</td>\n",
       "    </tr>\n",
       "    <tr>\n",
       "      <th>1</th>\n",
       "      <td>NA</td>\n",
       "      <td>$39.99</td>\n",
       "      <td>$34.99</td>\n",
       "      <td>Street Outlaws: The List</td>\n",
       "    </tr>\n",
       "    <tr>\n",
       "      <th>2</th>\n",
       "      <td>NA</td>\n",
       "      <td>$19.99</td>\n",
       "      <td>$9.99</td>\n",
       "      <td>Mega Man 11</td>\n",
       "    </tr>\n",
       "    <tr>\n",
       "      <th>3</th>\n",
       "      <td>NA</td>\n",
       "      <td>$39.99</td>\n",
       "      <td>$34.99</td>\n",
       "      <td>Sniper Ghost Warrior Contracts</td>\n",
       "    </tr>\n",
       "    <tr>\n",
       "      <th>4</th>\n",
       "      <td>NA</td>\n",
       "      <td>NA</td>\n",
       "      <td>$39.99</td>\n",
       "      <td>Gal Gun 2</td>\n",
       "    </tr>\n",
       "    <tr>\n",
       "      <th>5</th>\n",
       "      <td>NA</td>\n",
       "      <td>NA</td>\n",
       "      <td>$29.99</td>\n",
       "      <td>Project Cars 2</td>\n",
       "    </tr>\n",
       "    <tr>\n",
       "      <th>6</th>\n",
       "      <td>NA</td>\n",
       "      <td>$13.97</td>\n",
       "      <td>$9.99</td>\n",
       "      <td>Madden NFL 19</td>\n",
       "    </tr>\n",
       "    <tr>\n",
       "      <th>7</th>\n",
       "      <td>NA</td>\n",
       "      <td>NA</td>\n",
       "      <td>$19.99</td>\n",
       "      <td>Heavy Rain and BEYOND: Two Souls</td>\n",
       "    </tr>\n",
       "    <tr>\n",
       "      <th>8</th>\n",
       "      <td>NA</td>\n",
       "      <td>$9.99</td>\n",
       "      <td>$7.99</td>\n",
       "      <td>Let's Sing Country</td>\n",
       "    </tr>\n",
       "    <tr>\n",
       "      <th>9</th>\n",
       "      <td>NA</td>\n",
       "      <td>NA</td>\n",
       "      <td>$9.99</td>\n",
       "      <td>The Book of Unwritten Tales 2</td>\n",
       "    </tr>\n",
       "    <tr>\n",
       "      <th>10</th>\n",
       "      <td>$29.99</td>\n",
       "      <td>NA</td>\n",
       "      <td>NA</td>\n",
       "      <td>Shadow of The Tomb Raider Season Pass</td>\n",
       "    </tr>\n",
       "    <tr>\n",
       "      <th>11</th>\n",
       "      <td>NA</td>\n",
       "      <td>$39.99</td>\n",
       "      <td>NA</td>\n",
       "      <td>Madden NFL 20 Superstar Edition</td>\n",
       "    </tr>\n",
       "    <tr>\n",
       "      <th>12</th>\n",
       "      <td>NA</td>\n",
       "      <td>NA</td>\n",
       "      <td>$9.99</td>\n",
       "      <td>Mirror's Edge Catalyst</td>\n",
       "    </tr>\n",
       "    <tr>\n",
       "      <th>13</th>\n",
       "      <td>NA</td>\n",
       "      <td>NA</td>\n",
       "      <td>$9.99</td>\n",
       "      <td>Raid: World War II</td>\n",
       "    </tr>\n",
       "    <tr>\n",
       "      <th>14</th>\n",
       "      <td>NA</td>\n",
       "      <td>$36.97</td>\n",
       "      <td>$29.99</td>\n",
       "      <td>CRYSTAR Day One Edition</td>\n",
       "    </tr>\n",
       "    <tr>\n",
       "      <th>15</th>\n",
       "      <td>$99.99</td>\n",
       "      <td>NA</td>\n",
       "      <td>NA</td>\n",
       "      <td>FIFA 19 12,000 Ultimate Team Points</td>\n",
       "    </tr>\n",
       "    <tr>\n",
       "      <th>16</th>\n",
       "      <td>NA</td>\n",
       "      <td>$29.99</td>\n",
       "      <td>$24.99</td>\n",
       "      <td>RICO</td>\n",
       "    </tr>\n",
       "    <tr>\n",
       "      <th>17</th>\n",
       "      <td>NA</td>\n",
       "      <td>NA</td>\n",
       "      <td>$19.99</td>\n",
       "      <td>Dead Island Definitive Collection</td>\n",
       "    </tr>\n",
       "    <tr>\n",
       "      <th>18</th>\n",
       "      <td>NA</td>\n",
       "      <td>$14.99</td>\n",
       "      <td>$6.99</td>\n",
       "      <td>Industry Giant 2</td>\n",
       "    </tr>\n",
       "    <tr>\n",
       "      <th>19</th>\n",
       "      <td>NA</td>\n",
       "      <td>NA</td>\n",
       "      <td>$14.99</td>\n",
       "      <td>Rise of the Tomb Raider 20 Year Celebration Ed...</td>\n",
       "    </tr>\n",
       "  </tbody>\n",
       "</table>\n",
       "</div>"
      ],
      "text/plain": [
       "   digital     new     pre                                              title\n",
       "0       NA      NA   $9.99                     Bulletstorm: Full Clip Edition\n",
       "1       NA  $39.99  $34.99                           Street Outlaws: The List\n",
       "2       NA  $19.99   $9.99                                        Mega Man 11\n",
       "3       NA  $39.99  $34.99                     Sniper Ghost Warrior Contracts\n",
       "4       NA      NA  $39.99                                          Gal Gun 2\n",
       "5       NA      NA  $29.99                                     Project Cars 2\n",
       "6       NA  $13.97   $9.99                                      Madden NFL 19\n",
       "7       NA      NA  $19.99                   Heavy Rain and BEYOND: Two Souls\n",
       "8       NA   $9.99   $7.99                                 Let's Sing Country\n",
       "9       NA      NA   $9.99                      The Book of Unwritten Tales 2\n",
       "10  $29.99      NA      NA              Shadow of The Tomb Raider Season Pass\n",
       "11      NA  $39.99      NA                    Madden NFL 20 Superstar Edition\n",
       "12      NA      NA   $9.99                             Mirror's Edge Catalyst\n",
       "13      NA      NA   $9.99                                 Raid: World War II\n",
       "14      NA  $36.97  $29.99                            CRYSTAR Day One Edition\n",
       "15  $99.99      NA      NA                FIFA 19 12,000 Ultimate Team Points\n",
       "16      NA  $29.99  $24.99                                               RICO\n",
       "17      NA      NA  $19.99                  Dead Island Definitive Collection\n",
       "18      NA  $14.99   $6.99                                   Industry Giant 2\n",
       "19      NA      NA  $14.99  Rise of the Tomb Raider 20 Year Celebration Ed..."
      ]
     },
     "execution_count": 92,
     "metadata": {},
     "output_type": "execute_result"
    }
   ],
   "source": [
    "price_df.head(20)"
   ]
  },
  {
   "cell_type": "code",
   "execution_count": 89,
   "metadata": {},
   "outputs": [],
   "source": [
    "price_df.to_csv('prices_title.csv')"
   ]
  },
  {
   "cell_type": "code",
   "execution_count": 91,
   "metadata": {},
   "outputs": [
    {
     "name": "stdout",
     "output_type": "stream",
     "text": [
      "prices.csv\t  smaller_1.csv  smaller.csv\r\n",
      "prices_title.csv  smaller_2.csv  steam-200k.csv\r\n"
     ]
    }
   ],
   "source": [
    "!ls *.csv"
   ]
  }
 ],
 "metadata": {
  "kernelspec": {
   "display_name": "gpu_env",
   "language": "python",
   "name": "gpu_env"
  },
  "language_info": {
   "codemirror_mode": {
    "name": "ipython",
    "version": 3
   },
   "file_extension": ".py",
   "mimetype": "text/x-python",
   "name": "python",
   "nbconvert_exporter": "python",
   "pygments_lexer": "ipython3",
   "version": "3.5.2"
  }
 },
 "nbformat": 4,
 "nbformat_minor": 2
}
